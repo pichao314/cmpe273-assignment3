{
 "cells": [
  {
   "cell_type": "code",
   "execution_count": 1,
   "metadata": {
    "pycharm": {
     "name": "#%%\n"
    }
   },
   "outputs": [],
   "source": [
    "import types,time\n",
    "from functools import wraps\n",
    "class DNode:\n",
    "    def __init__(self,key_ = None,value_=None):\n",
    "        self.value = value_\n",
    "        self.key = key_\n",
    "        self.prev = None\n",
    "        self.next = None\n",
    "\n",
    "class lru_cache:\n",
    "\n",
    "    def __init__(self, capacity: int):\n",
    "        self.dict = dict()\n",
    "        self.capacity = capacity\n",
    "        self.size = 0\n",
    "        self.head = DNode()\n",
    "        self.tail = DNode()\n",
    "        self.head.next = self.tail\n",
    "        self.tail.prev = self.head\n",
    "        \n",
    "    def push(self, node):\n",
    "        node.next = self.head.next\n",
    "        node.prev = self.head\n",
    "        self.head.next.prev = node\n",
    "        self.head.next = node\n",
    "        return node\n",
    "        \n",
    "    def remove(self, node):\n",
    "        prev = node.prev\n",
    "        nxt = node.next\n",
    "        prev.next = nxt\n",
    "        nxt.prev = prev\n",
    "        \n",
    "    def top(self, node):\n",
    "        self.remove(node)\n",
    "        self.push(node)\n",
    "        \n",
    "    def pop(self):\n",
    "        k = self.tail.prev.key\n",
    "        self.remove(self.tail.prev)\n",
    "        return k\n",
    "        \n",
    "    def get(self, key: int) -> int:\n",
    "        # print(\"______\")\n",
    "        # print(\"getting %d\" % key)\n",
    "        # print(self.dict.keys())\n",
    "        if key not in self.dict:\n",
    "            # print(\"not found!\")\n",
    "            return -1\n",
    "        else:\n",
    "            # print(\"founded!\")\n",
    "            node = self.dict[key]\n",
    "            self.top(node)\n",
    "            return node.value     \n",
    "\n",
    "    def put(self, key: int, value: int) -> None:\n",
    "        # print(\"______\")\n",
    "        # print(\"Putting %d\" % key)\n",
    "        # print(\"Before Operation\")\n",
    "        # print(\"current size is %d\" % self.size)\n",
    "        # print(self.dict.keys())\n",
    "        # print(\"+++++++\")\n",
    "        node = DNode(key,value)\n",
    "        if key not in self.dict:\n",
    "            if self.size >= self.capacity:\n",
    "                del self.dict[self.pop()]\n",
    "                self.size -= 1\n",
    "            self.dict[key] = self.push(node)\n",
    "            self.size += 1\n",
    "            # print(\"current size is %d\" % self.size)\n",
    "            # print(self.dict.keys())\n",
    "        else:\n",
    "            self.top(self.dict[key])\n",
    "            self.dict[key].value = value\n",
    "            # print(\"current size is %d\" % self.size)\n",
    "            # print(self.dict.keys())\n",
    "    def __call__(self,func,*args,**kwargs):\n",
    "        def wrapper(*args, **kwargs):\n",
    "            key = args[0]\n",
    "            v = self.get(key)\n",
    "            start_time = time.time()\n",
    "            if v == -1:\n",
    "                v = func(*args,**kwargs);\n",
    "                self.put(key,v)\n",
    "                print(\"[%.8fs] %s(%s) -> %s \" % (time.time() - start_time,func.__name__,key,v))\n",
    "            else:\n",
    "                print(\"[cache_hit] %s(%s) -> %s \" % (func.__name__,key,v))\n",
    "            return v\n",
    "        return wrapper\n",
    "    \n",
    "    def __get__(self, instance, cls):\n",
    "        if instance is None:\n",
    "            return self\n",
    "        else:\n",
    "            return types.MethodType(self, instance)"
   ]
  },
  {
   "cell_type": "code",
   "execution_count": 2,
   "metadata": {},
   "outputs": [],
   "source": [
    "@lru_cache(3)\n",
    "def fibonacci(n):\n",
    "    if n < 2:\n",
    "        return n\n",
    "    return fibonacci(n - 2) + fibonacci(n - 1)"
   ]
  },
  {
   "cell_type": "code",
   "execution_count": 3,
   "metadata": {},
   "outputs": [
    {
     "name": "stdout",
     "output_type": "stream",
     "text": [
      "[0.00000691s] fibonacci(0) -> 0 \n",
      "[0.00000381s] fibonacci(1) -> 1 \n",
      "[0.00009704s] fibonacci(2) -> 1 \n",
      "[cache_hit] fibonacci(1) -> 1 \n",
      "[cache_hit] fibonacci(2) -> 1 \n",
      "[0.00003910s] fibonacci(3) -> 2 \n",
      "[0.00020671s] fibonacci(4) -> 3 \n",
      "[cache_hit] fibonacci(3) -> 2 \n",
      "[cache_hit] fibonacci(4) -> 3 \n",
      "[0.00026202s] fibonacci(5) -> 5 \n",
      "[0.00052500s] fibonacci(6) -> 8 \n",
      "fibonacci(6)=8\n",
      "\n"
     ]
    }
   ],
   "source": [
    "print(f'fibonacci(6)={fibonacci(6)}\\n')"
   ]
  },
  {
   "cell_type": "code",
   "execution_count": 4,
   "metadata": {},
   "outputs": [],
   "source": [
    "INVOKE_COUNT = 0\n",
    "\n",
    "@lru_cache(4)\n",
    "def get_data(key):\n",
    "    global INVOKE_COUNT\n",
    "    INVOKE_COUNT = INVOKE_COUNT + 1\n",
    "    return {'id': key, 'value': f'Foo Bar - {key}'}\n",
    "\n",
    "\n",
    "def test_get_data(keys):\n",
    "    for x in keys:\n",
    "        result = get_data(x)\n",
    "        print(result)\n",
    "    print(f'Num of function calls:{len(keys)}')"
   ]
  },
  {
   "cell_type": "code",
   "execution_count": 5,
   "metadata": {},
   "outputs": [
    {
     "name": "stdout",
     "output_type": "stream",
     "text": [
      "[0.00000882s] get_data(1) -> {'id': 1, 'value': 'Foo Bar - 1'} \n",
      "{'id': 1, 'value': 'Foo Bar - 1'}\n",
      "[0.00000715s] get_data(2) -> {'id': 2, 'value': 'Foo Bar - 2'} \n",
      "{'id': 2, 'value': 'Foo Bar - 2'}\n",
      "[0.00000262s] get_data(3) -> {'id': 3, 'value': 'Foo Bar - 3'} \n",
      "{'id': 3, 'value': 'Foo Bar - 3'}\n",
      "[0.00001001s] get_data(4) -> {'id': 4, 'value': 'Foo Bar - 4'} \n",
      "{'id': 4, 'value': 'Foo Bar - 4'}\n",
      "[cache_hit] get_data(1) -> {'id': 1, 'value': 'Foo Bar - 1'} \n",
      "{'id': 1, 'value': 'Foo Bar - 1'}\n",
      "[cache_hit] get_data(2) -> {'id': 2, 'value': 'Foo Bar - 2'} \n",
      "{'id': 2, 'value': 'Foo Bar - 2'}\n",
      "[cache_hit] get_data(3) -> {'id': 3, 'value': 'Foo Bar - 3'} \n",
      "{'id': 3, 'value': 'Foo Bar - 3'}\n",
      "[cache_hit] get_data(4) -> {'id': 4, 'value': 'Foo Bar - 4'} \n",
      "{'id': 4, 'value': 'Foo Bar - 4'}\n",
      "[0.00000811s] get_data(5) -> {'id': 5, 'value': 'Foo Bar - 5'} \n",
      "{'id': 5, 'value': 'Foo Bar - 5'}\n",
      "[0.00000596s] get_data(6) -> {'id': 6, 'value': 'Foo Bar - 6'} \n",
      "{'id': 6, 'value': 'Foo Bar - 6'}\n",
      "Num of function calls:10\n",
      "Num of cache misses:6\n"
     ]
    }
   ],
   "source": [
    "test_get_data([1, 2, 3, 4, 1, 2, 3, 4, 5, 6])\n",
    "print(f'Num of cache misses:{INVOKE_COUNT}')\n",
    "assert INVOKE_COUNT == 6"
   ]
  },
  {
   "cell_type": "code",
   "execution_count": null,
   "metadata": {},
   "outputs": [],
   "source": []
  }
 ],
 "metadata": {
  "kernelspec": {
   "display_name": "Python 3",
   "language": "python",
   "name": "python3"
  },
  "language_info": {
   "codemirror_mode": {
    "name": "ipython",
    "version": 3
   },
   "file_extension": ".py",
   "mimetype": "text/x-python",
   "name": "python",
   "nbconvert_exporter": "python",
   "pygments_lexer": "ipython3",
   "version": "3.8.1"
  }
 },
 "nbformat": 4,
 "nbformat_minor": 1
}
