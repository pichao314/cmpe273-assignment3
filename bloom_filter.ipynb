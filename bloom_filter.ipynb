{
 "cells": [
  {
   "cell_type": "code",
   "execution_count": 72,
   "metadata": {},
   "outputs": [],
   "source": [
    "import mmh3\n",
    "from bitarray import bitarray\n",
    "from random import shuffle \n",
    "\n",
    "class BloomFilter:\n",
    "    \n",
    "    def __init__(self,n,fp):\n",
    "        self.BIT_SIZE = int(- (n * log(fp)) / log(2)**2)\n",
    "        self.HASH_NUM = int((self.BIT_SIZE/n)*log(2))\n",
    "        self.bit_array = bitarray(self.BIT_SIZE)\n",
    "        self.bit_array.setall(0)\n",
    "        \n",
    "    def add(self, key):\n",
    "        point_list = self.get_postions(key)\n",
    "        for b in point_list:\n",
    "            self.bit_array[b] = 1\n",
    "\n",
    "    def is_member(self, url):\n",
    "        # Check if a url is in a collection\n",
    "        point_list = self.get_postions(url)\n",
    "\n",
    "        result = True\n",
    "        for b in point_list:\n",
    "            result = result and self.bit_array[b]\n",
    "    \n",
    "        return result\n",
    "\n",
    "    def get_postions(self, key):\n",
    "        # Get points positions in bit vector.\n",
    "        return [hf(key)%self.BIT_SIZE for hf in [partial(mmh3.hash,seed = s) for s in range(self.HASH_NUM)]]"
   ]
  },
  {
   "cell_type": "code",
   "execution_count": 73,
   "metadata": {},
   "outputs": [],
   "source": [
    "NUM_KEYS = 20 \n",
    "FALSE_POSITIVE_PROBABILITY = 0.05\n",
    "def test_bloom_filter():\n",
    "    bloomfilter = BloomFilter(NUM_KEYS, FALSE_POSITIVE_PROBABILITY) \n",
    "    word_present = ['abound','abounds','abundance','abundant','accessable', \n",
    "                    'bloom','blossom','bolster','bonny','bonus','bonuses', \n",
    "                    'coherent','cohesive','colorful','comely','comfort', \n",
    "                    'gems','generosity','generous','generously','genial'] \n",
    "    \n",
    "    word_absent = ['facebook','twitter'] \n",
    "    \n",
    "    for item in word_present: \n",
    "        bloomfilter.add(item) \n",
    "    \n",
    "    test_words = word_present[:10] + word_absent \n",
    "    shuffle(test_words) \n",
    "    for word in test_words: \n",
    "        if bloomfilter.is_member(word): \n",
    "            if word in word_absent: \n",
    "                print(f\"'{word}' is a false positive!\") \n",
    "            else: \n",
    "                print(f\"'{word}' is probably present!\")\n",
    "        else: \n",
    "            print(f\"'{word}' is definitely not present!\") "
   ]
  },
  {
   "cell_type": "code",
   "execution_count": 74,
   "metadata": {
    "scrolled": true
   },
   "outputs": [
    {
     "name": "stdout",
     "output_type": "stream",
     "text": [
      "'facebook' is definitely not present!\n",
      "'abound' is probably present!\n",
      "'bloom' is probably present!\n",
      "'abounds' is probably present!\n",
      "'bonny' is probably present!\n",
      "'blossom' is probably present!\n",
      "'bolster' is probably present!\n",
      "'twitter' is a false positive!\n",
      "'accessable' is probably present!\n",
      "'abundance' is probably present!\n",
      "'bonus' is probably present!\n",
      "'abundant' is probably present!\n"
     ]
    }
   ],
   "source": [
    "test_bloom_filter()"
   ]
  },
  {
   "cell_type": "code",
   "execution_count": 88,
   "metadata": {},
   "outputs": [],
   "source": [
    "def calc(n, p):\n",
    "    BIT_SIZE = -(n * log(p))/(log(2)**2) \n",
    "    HASH_NUM = int(BIT_SIZE/n)*log(2)\n",
    "    return BIT_SIZE,HASH_NUM"
   ]
  },
  {
   "cell_type": "code",
   "execution_count": 94,
   "metadata": {},
   "outputs": [
    {
     "data": {
      "text/plain": [
       "(6235224229.572683, 4.1588830833596715)"
      ]
     },
     "execution_count": 94,
     "metadata": {},
     "output_type": "execute_result"
    }
   ],
   "source": [
    "calc(1000000000,0.05)"
   ]
  },
  {
   "cell_type": "code",
   "execution_count": null,
   "metadata": {},
   "outputs": [],
   "source": []
  }
 ],
 "metadata": {
  "kernelspec": {
   "display_name": "Python 3",
   "language": "python",
   "name": "python3"
  },
  "language_info": {
   "codemirror_mode": {
    "name": "ipython",
    "version": 3
   },
   "file_extension": ".py",
   "mimetype": "text/x-python",
   "name": "python",
   "nbconvert_exporter": "python",
   "pygments_lexer": "ipython3",
   "version": "3.8.1"
  }
 },
 "nbformat": 4,
 "nbformat_minor": 4
}
